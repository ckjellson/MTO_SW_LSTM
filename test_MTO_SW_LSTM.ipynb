{
 "cells": [
  {
   "cell_type": "code",
   "execution_count": 9,
   "metadata": {},
   "outputs": [
    {
     "name": "stdout",
     "output_type": "stream",
     "text": [
      "MTO_SW_LSTM(\n",
      "  (rnn): LSTM(200, 100, num_layers=2, batch_first=True, dropout=0.1, bidirectional=True)\n",
      "  (dnn): Sequential(\n",
      "    (fc0): Linear(in_features=100, out_features=50, bias=True)\n",
      "    (do0): Dropout(p=0.2, inplace=False)\n",
      "    (af0): Tanh()\n",
      "    (lin0): Linear(in_features=50, out_features=100, bias=True)\n",
      "    (do3): Dropout(p=0.2, inplace=False)\n",
      "    (af3): Tanh()\n",
      "    (lin3): Linear(in_features=100, out_features=10, bias=True)\n",
      "  )\n",
      "  (af): Sigmoid()\n",
      ")\n"
     ]
    }
   ],
   "source": [
    "from MTO_SW_LSTM import MTO_SW_LSTM\n",
    "\n",
    "window_size = 20\n",
    "hidden_size = 100\n",
    "num_layers = 2\n",
    "n_features = 10\n",
    "stride = 10\n",
    "bsize = 10\n",
    "device = 'cuda'\n",
    "bidir = True\n",
    "nout = [50, 100, 10]\n",
    "dropout = 0.1\n",
    "dropout2 = 0.2\n",
    "\n",
    "rnn = MTO_SW_LSTM(window_size,hidden_size,num_layers,n_features,stride,bsize,device,bidir,nout,dropout,dropout2)\n",
    "print(rnn)"
   ]
  },
  {
   "cell_type": "code",
   "execution_count": 10,
   "metadata": {},
   "outputs": [],
   "source": [
    "import torch\n",
    "train_data = []\n",
    "val_data = []\n",
    "for i in range(100):\n",
    "    X_seq = torch.randn((500,n_features)).float().to(device)\n",
    "    y_seq = torch.randn((1,nout[-1])).float().to(device)\n",
    "    train_data.append((X_seq,y_seq))\n",
    "    X_seq = torch.randn((500,n_features)).float().to(device)\n",
    "    y_seq = torch.randn((1,nout[-1])).float().to(device)\n",
    "    val_data.append((X_seq,y_seq))"
   ]
  },
  {
   "cell_type": "code",
   "execution_count": 11,
   "metadata": {},
   "outputs": [
    {
     "name": "stdout",
     "output_type": "stream",
     "text": [
      "Epoch 1 - Training loss: 1.0928384423255921 - Validation loss: 1.1538945436477661\n",
      "Epoch 10 - Training loss: 1.0355978429317474 - Validation loss: 1.1538945436477661\n",
      "Epoch 20 - Training loss: 1.0355978429317474 - Validation loss: 1.1538945436477661\n",
      "Epoch 30 - Training loss: 1.035597825050354 - Validation loss: 1.1538945436477661\n",
      "Epoch 40 - Training loss: 1.0355978190898896 - Validation loss: 1.1538945436477661\n",
      "Epoch 50 - Training loss: 1.035597836971283 - Validation loss: 1.1538945436477661\n",
      "Epoch 60 - Training loss: 1.035597825050354 - Validation loss: 1.1538945436477661\n",
      "Epoch 70 - Training loss: 1.0355978310108185 - Validation loss: 1.1538945436477661\n",
      "Epoch 80 - Training loss: 1.035597825050354 - Validation loss: 1.1538945436477661\n",
      "Epoch 90 - Training loss: 1.0355978190898896 - Validation loss: 1.1538945436477661\n",
      "Epoch 100 - Training loss: 1.035597825050354 - Validation loss: 1.1538945436477661\n",
      "Finished training in  23.001180171966553  seconds\n"
     ]
    }
   ],
   "source": [
    "epochs = 100\n",
    "learning_rate = 0.1\n",
    "using_gpu = True\n",
    "testnbr = 10\n",
    "rnn.train_model(train_data, val_data, epochs, bsize, learning_rate, using_gpu, testnbr)"
   ]
  }
 ],
 "metadata": {
  "kernelspec": {
   "display_name": "Python 3",
   "language": "python",
   "name": "python3"
  },
  "language_info": {
   "codemirror_mode": {
    "name": "ipython",
    "version": 3
   },
   "file_extension": ".py",
   "mimetype": "text/x-python",
   "name": "python",
   "nbconvert_exporter": "python",
   "pygments_lexer": "ipython3",
   "version": "3.7.7"
  }
 },
 "nbformat": 4,
 "nbformat_minor": 4
}
